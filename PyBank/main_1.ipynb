{
 "cells": [
  {
   "cell_type": "code",
   "execution_count": 13,
   "metadata": {},
   "outputs": [],
   "source": [
    "# Import module\n",
    "import csv\n",
    "import numpy as np\n",
    "from pathlib import Path\n",
    "\n",
    "# Initialize metrics\n",
    "total_months = 0\n",
    "total_pnl = 0\n",
    "total_diff = 0\n",
    "avg_change = 0\n",
    "greatest_increase_date = \"\"\n",
    "greatest_decrease_date = \"\"\n",
    "greatest_increase_pnl = 0\n",
    "greatest_decrease_pnl = 0\n",
    "csvpath = Path('Resources/budget_data.csv')\n",
    "output_path = Path(\"Resources/budget_data_analysis.txt\")\n",
    "\n",
    "# Initalize dictionary\n",
    "dates = []\n",
    "monthly_pnl = []\n",
    "monthly_pnl_diff = []\n"
   ]
  },
  {
   "cell_type": "code",
   "execution_count": 14,
   "metadata": {},
   "outputs": [],
   "source": [
    "# Read csv file and iterate over the data\n",
    "with open(csvpath,'r') as bd_csvfile:  \n",
    "    csv_reader = csv.reader(bd_csvfile, delimiter=',')\n",
    "    next(csv_reader)\n",
    "    \n",
    "    for row in csv_reader:\n",
    "        date = row[0]\n",
    "        dates.append(date)\n",
    "        pnl = int(row[1])\n",
    "        monthly_pnl.append(pnl)"
   ]
  },
  {
   "cell_type": "code",
   "execution_count": 15,
   "metadata": {},
   "outputs": [],
   "source": [
    "# get total months\n",
    "for date in dates:\n",
    "        total_months += 1\n",
    "\n",
    "#  get total pnl\n",
    "for pnl in monthly_pnl:\n",
    "    total_pnl += pnl"
   ]
  },
  {
   "cell_type": "code",
   "execution_count": 16,
   "metadata": {},
   "outputs": [],
   "source": [
    "# Calculation the greatest increase/decrease\n",
    "for diff in range(len(monthly_pnl)-1):\n",
    "    x = monthly_pnl[diff + 1] - monthly_pnl[diff]\n",
    "    monthly_pnl_diff.append(x)\n",
    "                                \n",
    "# Find max and min of monthly_pnl_diff\n",
    "for diff in monthly_pnl_diff:\n",
    "    if greatest_decrease_pnl == 0:\n",
    "        greatest_decrease_pnl = diff\n",
    "    elif diff > greatest_increase_pnl:\n",
    "        greatest_increase_pnl = diff\n",
    "    elif diff < greatest_decrease_pnl:\n",
    "        greatest_decrease_pnl = diff\n",
    "        \n",
    "# get average of the changes over the entire period (nearest 2 decimals)\n",
    "for diff in monthly_pnl_diff:\n",
    "    total_diff += diff\n",
    "    avg_change = round(total_diff / (total_months - 1), 2)\n",
    "        \n",
    "# Find max and min value and the dates that are associated with the value\n",
    "greatest_increase_date = dates[monthly_pnl_diff.index(max(monthly_pnl_diff)) + 1]\n",
    "greatest_decrease_date = dates[monthly_pnl_diff.index(min(monthly_pnl_diff)) + 1]\n"
   ]
  },
  {
   "cell_type": "code",
   "execution_count": 17,
   "metadata": {},
   "outputs": [
    {
     "name": "stdout",
     "output_type": "stream",
     "text": [
      "Financial Analysis\n",
      "------------------------------\n",
      "Total Months: 86\n",
      "Total: $38382578\n",
      "Average Change: $-2315.12\n",
      "Greatest Increase in Profits: Feb-2012 (1926159)\n",
      "Greatest Decrease in Profits: Sep-2013 (-2196167)\n"
     ]
    }
   ],
   "source": [
    "# Output metrics to terminal\n",
    "print(\"Financial Analysis\")\n",
    "print('-' * 30)\n",
    "print(f\"Total Months: {total_months}\")\n",
    "print(f\"Total: ${total_pnl}\")\n",
    "print(f\"Average Change: ${avg_change}\")\n",
    "print(f\"Greatest Increase in Profits: {greatest_increase_date} ({greatest_increase_pnl})\")\n",
    "print(f\"Greatest Decrease in Profits: {greatest_decrease_date} ({greatest_decrease_pnl})\")\n"
   ]
  },
  {
   "cell_type": "code",
   "execution_count": 18,
   "metadata": {},
   "outputs": [],
   "source": [
    "# Open the output_path as a file object in \"write\" mode ('w')\n",
    "# Write a header line and write the contents of 'text' to the file\n",
    "with open(output_path, 'w') as file:\n",
    "    file.write(\"Financial Analysis\\n\")\n",
    "    file.write('-'* 30)\n",
    "    file.write('\\n')\n",
    "    file.write(f\"Total Months: {total_months}\\n\")\n",
    "    file.write(f\"Total: ${total_pnl}\\n\")\n",
    "    file.write(f\"Average Change: ${avg_change}\\n\")\n",
    "    file.write(f\"Greatest Increase in Profits: {greatest_increase_date} ({greatest_increase_pnl})\\n\")\n",
    "    file.write(f\"Greatest Decrease in Profits: {greatest_decrease_date} ({greatest_decrease_pnl})\\n\")"
   ]
  }
 ],
 "metadata": {
  "kernelspec": {
   "display_name": "Python 3",
   "language": "python",
   "name": "python3"
  },
  "language_info": {
   "codemirror_mode": {
    "name": "ipython",
    "version": 3
   },
   "file_extension": ".py",
   "mimetype": "text/x-python",
   "name": "python",
   "nbconvert_exporter": "python",
   "pygments_lexer": "ipython3",
   "version": "3.7.7"
  }
 },
 "nbformat": 4,
 "nbformat_minor": 4
}
