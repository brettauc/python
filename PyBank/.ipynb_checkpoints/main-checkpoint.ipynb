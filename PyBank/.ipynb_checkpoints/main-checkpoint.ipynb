{
 "cells": [
  {
   "cell_type": "code",
   "execution_count": 126,
   "metadata": {},
   "outputs": [],
   "source": [
    "# PyBank initial pseudocode\n",
    "# Purpose: analyze the financial records of your company.\n",
    "\n",
    "# 1. Data needed\n",
    "#  - Import csv and numpy modules\n",
    "#  - will need to parse the data to iterate through it\n",
    "\n",
    "# 2. The total number of months included in the dataset.\n",
    "#  - use the year as a differentiator then have a list/dictionary holding the names of the month \n",
    "#  - iterate through the date column looking for the year then confirm all 12 of the month are included\n",
    "#  - bound the number that comes back from the iteriate to a variable and add to it finds different years\n",
    "\n",
    "# 3. The net total amount of Profit/Losses over the entire period\n",
    "#  - Function to sum the profit/loss column\n",
    "\n",
    "# 4. The average of the changes in Profit/Losses over the entire period.\n",
    "#  - figure out the total profit or loss for each year\n",
    "#  - sum the totals from each year then divide that number by the amount of years in the dataset\n",
    "#  - update after completion of work: initialially was incorrect about this one needed to be the average change of the differences not of the total pnl\n",
    "\n",
    "# 5. The greatest increase/decrease in profits (date and amount) over the entire period.\n",
    "#  - month 2 - month 1 = increase or decrease\n",
    "#  - iterate through the dataset with the \"above formula\" if the next calculation is greater than the current stored amount, replace amount and date bound to the variable\n",
    "#  - iterate through the dataset with the above formula if the next calculation is less than the current stored amount, replace amount and date bound to the variable\n",
    "\n",
    "# 7. Output\n",
    "#  - will need to export the output to a file(text) and terminal\n"
   ]
  },
  {
   "cell_type": "code",
   "execution_count": 127,
   "metadata": {},
   "outputs": [],
   "source": [
    "# Import module\n",
    "import csv\n",
    "import numpy as np\n",
    "from pathlib import Path\n",
    "\n",
    "# Initialize metrics\n",
    "total_months = 0\n",
    "total_pnl = 0\n",
    "total_diff = 0\n",
    "avg_change = 0\n",
    "greatest_increase_date = \" \"\n",
    "greatest_decrease_date = \" \"\n",
    "greatest_increase_pnl = 0\n",
    "greatest_decrease_pnl = 0\n",
    "input_csvpath = Path('Resources/budget_data.csv')\n",
    "output_path = Path(\"Resources/budget_data_analysis_numpy.txt\")\n",
    "\n",
    "# Initalize dictionary\n",
    "dates = []\n",
    "monthly_pnl = []\n",
    "monthly_pnl_diff = []"
   ]
  },
  {
   "cell_type": "code",
   "execution_count": 128,
   "metadata": {},
   "outputs": [],
   "source": [
    "# Read csv file and iterate over the data\n",
    "with open(input_csvpath,'r') as bd_csvfile:  \n",
    "    csv_reader = csv.reader(bd_csvfile, delimiter=',')\n",
    "    next(csv_reader)\n",
    "    \n",
    "    for row in csv_reader:\n",
    "        date = row[0]\n",
    "        dates.append(date)\n",
    "        pnl = int(row[1])\n",
    "        monthly_pnl.append(pnl)\n",
    "\n",
    "    # Get the monthly increase/decrease for the monthly_pnl\n",
    "    x = np.diff(monthly_pnl)\n",
    "    monthly_pnl_diff = x.tolist()\n",
    "    \n",
    "    # Find max and min of monthly_pnl_diff\n",
    "    for diff in monthly_pnl_diff:\n",
    "        if greatest_decrease_pnl == 0:\n",
    "            greatest_decrease_pnl = diff\n",
    "        elif diff > greatest_increase_pnl:\n",
    "            greatest_increase_pnl = diff\n",
    "        elif diff < greatest_decrease_pnl:\n",
    "            greatest_decrease_pnl = diff\n",
    "            \n",
    "    # get total months\n",
    "    for date in dates:\n",
    "        total_months += 1\n",
    "\n",
    "    #  get total pnl\n",
    "    for pnl in monthly_pnl:\n",
    "        total_pnl += pnl\n",
    "\n",
    "    # get average of the changes over the entire period (nearest 2 decimals)\n",
    "    for diff in monthly_pnl_diff:\n",
    "        total_diff += diff\n",
    "        avg_change = round(total_diff / (total_months - 1), 2)\n",
    "   \n",
    "    # Find max and min index values and the dates that are associated with the value\n",
    "    increase_pnl_index = monthly_pnl_diff.index(max(monthly_pnl_diff))\n",
    "    greatest_increase_date = dates[monthly_pnl_diff.index(max(monthly_pnl_diff)) + 1]\n",
    "    decrease_pnl_index = monthly_pnl_diff.index(min(monthly_pnl_diff))\n",
    "    greatest_decrease_date = dates[monthly_pnl_diff.index(min(monthly_pnl_diff)) + 1]\n"
   ]
  },
  {
   "cell_type": "code",
   "execution_count": 129,
   "metadata": {},
   "outputs": [
    {
     "name": "stdout",
     "output_type": "stream",
     "text": [
      "Financial Analysis\n",
      "------------------------------\n",
      "Total Months: 86\n",
      "Total: $38382578\n",
      "Average Change: $-2315.12\n",
      "Greatest Increase in Profits: Feb-2012 (1926159)\n",
      "Greatest Decrease in Profits: Sep-2013 (-2196167)\n"
     ]
    }
   ],
   "source": [
    "# Output metrics to terminal\n",
    "print(\"Financial Analysis\")\n",
    "print('-' * 30)\n",
    "print(f\"Total Months: {total_months}\")\n",
    "print(f\"Total: ${total_pnl}\")\n",
    "print(f\"Average Change: ${avg_change}\")\n",
    "print(f\"Greatest Increase in Profits: {greatest_increase_date} ({greatest_increase_pnl})\")\n",
    "print(f\"Greatest Decrease in Profits: {greatest_decrease_date} ({greatest_decrease_pnl})\")"
   ]
  },
  {
   "cell_type": "code",
   "execution_count": 130,
   "metadata": {},
   "outputs": [],
   "source": [
    "# Open the output_path as a file object in \"write\" mode ('w')\n",
    "# Write a header line and write the contents of 'text' to the file\n",
    "with open(output_path, 'w') as file:\n",
    "    file.write(\"Financial Analysis\\n\")\n",
    "    file.write('-'* 30)\n",
    "    file.write('\\n')\n",
    "    file.write(f\"Total Months: {total_months}\\n\")\n",
    "    file.write(f\"Total: ${total_pnl}\\n\")\n",
    "    file.write(f\"Average Change: ${avg_change}\\n\")\n",
    "    file.write(f\"Greatest Increase in Profits: {greatest_increase_date} ({greatest_increase_pnl})\\n\")\n",
    "    file.write(f\"Greatest Decrease in Profits: {greatest_decrease_date} ({greatest_decrease_pnl})\\n\")\n"
   ]
  }
 ],
 "metadata": {
  "kernelspec": {
   "display_name": "Python 3",
   "language": "python",
   "name": "python3"
  },
  "language_info": {
   "codemirror_mode": {
    "name": "ipython",
    "version": 3
   },
   "file_extension": ".py",
   "mimetype": "text/x-python",
   "name": "python",
   "nbconvert_exporter": "python",
   "pygments_lexer": "ipython3",
   "version": "3.7.7"
  }
 },
 "nbformat": 4,
 "nbformat_minor": 4
}
