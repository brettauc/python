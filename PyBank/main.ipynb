{
 "cells": [
  {
   "cell_type": "code",
   "execution_count": 1,
   "metadata": {},
   "outputs": [],
   "source": [
    "# PyBank pseudocode\n",
    "# Purpose: analyze the financial records of your company.\n",
    "\n",
    "# 1. Data needed\n",
    "#  - Import csv module\n",
    "#  - Import datetime module?\n",
    "#  - might need to import other modules I don't know about at this time(6/12)\n",
    "#  - will need to parse the data so that the functions can iterate through it\n",
    "\n",
    "# 2. The total number of months included in the dataset.\n",
    "#  - use the year as a differentiator then have a list/dictionary holding the names of the month \n",
    "#  - write a funtion to iterate through the date column looking for the year then confirm all 12 of the month are included\n",
    "#  - bound the number that comes back from the iteriate to a variable and add to it finds different years\n",
    "\n",
    "# 3. The net total amount of Profit/Losses over the entire period\n",
    "#  - Function to sum the profit/loss column\n",
    "\n",
    "# 4. The average of the changes in Profit/Losses over the entire period.\n",
    "#  - figure out the total profit or loss for each year\n",
    "#  - sum the totals from each year then divide that number by the amount of years in the dataset\n",
    "\n",
    "# 5. The greatest increase in profits (date and amount) over the entire period.\n",
    "#  - month 2 - month 1....if there is an increase, bound that amount and the date to a variable(s)\n",
    "#  - iterate through the dataset with the above formula if the next calculation is greater than the current stored amount, replace amount and date bound to the variable\n",
    "\n",
    "# 6. he greatest decrease in losses (date and amount) over the entire period.\n",
    "#  - month 2 - month 1....if the amount decreases, bound that amount and the date to a varialbe(s)\n",
    "#  - iterate through the dataset with the above formula if the next calculation is less than the current stored amount, replace amount and date bound to the variable\n",
    "\n",
    "# 7. Output\n",
    "#  - will need to export the output to a file(csv or json)\n",
    "# -CODE- for output except for the output to a file\n",
    "#print(\"Financial Analysis\")\n",
    "#print(\"-\" * 40)\n",
    "#print(\"Total Months:\\t\" + variable from #2)\n",
    "#print(\"Total:\\t\" + variable from #3)\n",
    "#print(\"Average Change:\\t\" + variable from #4)\n",
    "#print(\"Greatest Increase in Profits:\\t\" + variable from #5)\n",
    "#print(\"Greatest Decrease in Profits:\\t\" + variable from #6)"
   ]
  }
 ],
 "metadata": {
  "kernelspec": {
   "display_name": "Python 3",
   "language": "python",
   "name": "python3"
  },
  "language_info": {
   "codemirror_mode": {
    "name": "ipython",
    "version": 3
   },
   "file_extension": ".py",
   "mimetype": "text/x-python",
   "name": "python",
   "nbconvert_exporter": "python",
   "pygments_lexer": "ipython3",
   "version": "3.7.7"
  }
 },
 "nbformat": 4,
 "nbformat_minor": 4
}
