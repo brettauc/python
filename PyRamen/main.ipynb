{
 "cells": [
  {
   "cell_type": "code",
   "execution_count": 118,
   "metadata": {},
   "outputs": [],
   "source": [
    "# Import module\n",
    "import csv\n",
    "from pathlib import Path\n",
    "import pprint\n",
    "\n",
    "# Initialize list\n",
    "menu_list = []\n",
    "sales_list = []\n",
    "report = {}  # dictionary to hold future aggregated per-product results\n",
    "m_csvpath = Path('Resources/menu_data.csv')\n",
    "s_csvpath = Path('Resources/sales_data.csv')\n",
    "row_count = 0\n",
    "\n",
    "# Read menu data csv file and iterate over the data to append to menu list\n",
    "with open(m_csvpath,'r') as m_d_csvfile:  \n",
    "    menu_csv_reader = csv.reader(m_d_csvfile, delimiter=',')\n",
    "    next(menu_csv_reader)\n",
    "    \n",
    "    for m_rows in menu_csv_reader:\n",
    "        menu_list.append(m_rows)\n",
    "\n",
    "# Read sales data csv file and iterate over the data to append to sales list\n",
    "with open(s_csvpath,'r') as s_d_csvfile:  \n",
    "    sales_csv_reader = csv.reader(s_d_csvfile, delimiter=',')\n",
    "    next(sales_csv_reader)\n",
    "    \n",
    "    for s_rows in sales_csv_reader:\n",
    "        sales_list.append(s_rows)"
   ]
  },
  {
   "cell_type": "code",
   "execution_count": 119,
   "metadata": {},
   "outputs": [],
   "source": [
    "# loop through rows in sales list to set menu item and quantity to their own variables\n",
    "for row in sales_list:\n",
    "    menu_item = row[4]\n",
    "    quantity = row[3]\n",
    "    # Check if \"sales_item\" is already in the report dictionary.  If not initialize the key\n",
    "    # value paris for the particular sales_item in the report. Then set the sale_item as a new \n",
    "    # key to the report dictionary with values count, revenue, cogs, and profit as nested dictionaries    \n",
    "    if menu_item in report:\n",
    "        continue\n",
    "    else:\n",
    "        report[menu_item] = {\"01-count\": 0,\n",
    "                              \"02-revenue\": 0,\n",
    "                              \"03-cogs\": 0,\n",
    "                              \"04-profit\": 0}  \n",
    "    # Loop through rows in the menu list to set item, price, cost columns to their own variables\n",
    "for row in menu_list:\n",
    "    item = rows[0]\n",
    "    price = rows[3]\n",
    "    cost = rows[4]\n",
    "\n",
    "##WORK ON THIS - CODE NOT CORRECT\n",
    "# for menu_item in sales_list:\n",
    "#     for item in menu_list:\n",
    "#         if menu_item == item:\n",
    "#             report[menu_item][\"01-count\"] += quantity\n",
    "#             report[menu_item][\"02-revenue\"] += price * quantity\n",
    "#             report[menu_item][\"03-cogs\"] += cost * quantity\n",
    "#             report[menu_item][\"04-profit\"] += profit * quantity\n",
    "#         else:\n",
    "#             print(f'{menu_item} does not equal {item}! NO MATCH!')\n"
   ]
  },
  {
   "cell_type": "code",
   "execution_count": 120,
   "metadata": {},
   "outputs": [],
   "source": [
    "# # Add a new key-value pair\n",
    "# trading_pnl[\"04-07-2019\"] = 413\n",
    "# print(trading_pnl)\n",
    "# print()\n",
    "\n",
    "# # Modify a key value\n",
    "# trading_pnl[\"04-07-2019\"] = 542\n",
    "# print(trading_pnl)\n",
    "# print()\n",
    "\n",
    "# # Check if key exists\n",
    "# if \"04-03-2019\" in trading_pnl:\n",
    "#     print(\"Yes, '04-03-2019' is one of the keys in the trading_pnl dictionary\")\n",
    "# print()"
   ]
  }
 ],
 "metadata": {
  "kernelspec": {
   "display_name": "Python 3",
   "language": "python",
   "name": "python3"
  },
  "language_info": {
   "codemirror_mode": {
    "name": "ipython",
    "version": 3
   },
   "file_extension": ".py",
   "mimetype": "text/x-python",
   "name": "python",
   "nbconvert_exporter": "python",
   "pygments_lexer": "ipython3",
   "version": "3.7.7"
  }
 },
 "nbformat": 4,
 "nbformat_minor": 4
}
