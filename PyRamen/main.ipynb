{
 "cells": [
  {
   "cell_type": "code",
   "execution_count": null,
   "metadata": {},
   "outputs": [],
   "source": [
    "# Import module\n",
    "import csv\n",
    "from pathlib import Path\n",
    "import pprint\n",
    "\n",
    "# Initialize list\n",
    "menu = []\n",
    "sales = []\n",
    "m_csvpath = Path('Resources/menu_data.csv')\n",
    "s_csvpath = Path('Resources/sales_data.csv')\n",
    "\n",
    "# Read menu data csv file and iterate over the data to append to menu list\n",
    "with open(m_csvpath,'r') as m_d_csvfile:  \n",
    "    menu_csv_reader = csv.reader(m_d_csvfile, delimiter=',')\n",
    "    next(menu_csv_reader)\n",
    "    \n",
    "    for m_rows in menu_csv_reader:\n",
    "        menu.append(m_rows)\n",
    "\n",
    "# Read sales data csv file and iterate over the data to append to sales list\n",
    "with open(s_csvpath,'r') as s_d_csvfile:  \n",
    "    sales_csv_reader = csv.reader(s_d_csvfile, delimiter=',')\n",
    "    next(sales_csv_reader)\n",
    "    \n",
    "    for s_rows in sales_csv_reader:\n",
    "        sales.append(s_rows)"
   ]
  },
  {
   "cell_type": "code",
   "execution_count": null,
   "metadata": {},
   "outputs": [],
   "source": []
  }
 ],
 "metadata": {
  "kernelspec": {
   "display_name": "Python 3",
   "language": "python",
   "name": "python3"
  },
  "language_info": {
   "codemirror_mode": {
    "name": "ipython",
    "version": 3
   },
   "file_extension": ".py",
   "mimetype": "text/x-python",
   "name": "python",
   "nbconvert_exporter": "python",
   "pygments_lexer": "ipython3",
   "version": "3.7.7"
  }
 },
 "nbformat": 4,
 "nbformat_minor": 4
}
