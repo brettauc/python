{
 "cells": [
  {
   "cell_type": "code",
   "execution_count": 5,
   "metadata": {},
   "outputs": [],
   "source": [
    "# Import module\n",
    "import csv\n",
    "from pathlib import Path\n",
    "\n",
    "# Initialize list\n",
    "menu_list = []\n",
    "sales_list = []\n",
    "report = {}  # dictionary to hold future aggregated per-product results\n",
    "m_csvpath = Path('Resources/menu_data.csv')\n",
    "s_csvpath = Path('Resources/sales_data.csv')\n",
    "output_path = Path(\"Resources/PyRamen_output.txt\")\n",
    "\n",
    "# Read menu data csv file and iterate over the data to append to menu list\n",
    "with open(m_csvpath,'r') as m_d_csvfile:  \n",
    "    menu_csv_reader = csv.reader(m_d_csvfile, delimiter=',')\n",
    "    next(menu_csv_reader)\n",
    "    \n",
    "    for m_rows in menu_csv_reader:\n",
    "        menu_list.append(m_rows)\n",
    "\n",
    "# Read sales data csv file and iterate over the data to append to sales list\n",
    "with open(s_csvpath,'r') as s_d_csvfile:  \n",
    "    sales_csv_reader = csv.reader(s_d_csvfile, delimiter=',')\n",
    "    next(sales_csv_reader)\n",
    "    \n",
    "    for s_rows in sales_csv_reader:\n",
    "        sales_list.append(s_rows)\n"
   ]
  },
  {
   "cell_type": "code",
   "execution_count": 6,
   "metadata": {},
   "outputs": [],
   "source": [
    "# Loop through sales_list to set variables\n",
    "for s_row in sales_list:\n",
    "    menu_item = s_row[4]\n",
    "    quantity = int(s_row[3])\n",
    "    # Loop through menu_list to set variables\n",
    "    for m_row in menu_list:\n",
    "        item = m_row[0]\n",
    "        price = float(m_row[3])\n",
    "        cost = float(m_row[4])\n",
    "        # loop to check if the menu_item is a key in the report dictionary\n",
    "        # if not, add it as a key with a nested dictionary of count, revenue, cogs, and profit set to 0\n",
    "        if menu_item not in report.keys():\n",
    "            report[menu_item] = {\"01-count\": 0,\n",
    "                              \"02-revenue\": 0,\n",
    "                              \"03-cogs\": 0,\n",
    "                              \"04-profit\": 0}\n",
    "        # check if menu_item is in the menu_list. If yes, add the values to the nested dictionary\n",
    "        # that was created by the if statement above\n",
    "        elif menu_item == item:\n",
    "            report[menu_item][\"01-count\"] += quantity\n",
    "            report[menu_item][\"02-revenue\"] += price * quantity\n",
    "            report[menu_item][\"03-cogs\"] += cost * quantity\n",
    "            report[menu_item][\"04-profit\"] += price * quantity - cost * quantity\n",
    "#     else:\n",
    "#         print(f'{menu_item} does not equal {item}! NO MATCH!.')\n",
    "\n",
    "# Open the output_path as a file object in \"write\" mode ('w')\n",
    "# Write a header line and write the contents of 'text' to the file\n",
    "with open(output_path, 'w') as file:\n",
    "    for keys,values in report.items():\n",
    "        print(keys, values, file=file)"
   ]
  }
 ],
 "metadata": {
  "kernelspec": {
   "display_name": "Python 3",
   "language": "python",
   "name": "python3"
  },
  "language_info": {
   "codemirror_mode": {
    "name": "ipython",
    "version": 3
   },
   "file_extension": ".py",
   "mimetype": "text/x-python",
   "name": "python",
   "nbconvert_exporter": "python",
   "pygments_lexer": "ipython3",
   "version": "3.7.7"
  }
 },
 "nbformat": 4,
 "nbformat_minor": 4
}
