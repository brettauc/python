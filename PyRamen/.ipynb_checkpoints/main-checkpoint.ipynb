{
 "cells": [
  {
   "cell_type": "code",
   "execution_count": 93,
   "metadata": {},
   "outputs": [],
   "source": [
    "# Import module\n",
    "import csv\n",
    "from pathlib import Path\n",
    "import pprint\n",
    "\n",
    "# Initialize list\n",
    "menu = []\n",
    "sales = []\n",
    "report = {}  # dictionary to hold future aggregated per-product results\n",
    "m_csvpath = Path('Resources/menu_data.csv')\n",
    "s_csvpath = Path('Resources/sales_data.csv')\n",
    "row_count = 0\n",
    "\n",
    "# Read menu data csv file and iterate over the data to append to menu list\n",
    "with open(m_csvpath,'r') as m_d_csvfile:  \n",
    "    menu_csv_reader = csv.reader(m_d_csvfile, delimiter=',')\n",
    "    next(menu_csv_reader)\n",
    "    \n",
    "    for m_rows in menu_csv_reader:\n",
    "        menu.append(m_rows)\n",
    "\n",
    "# Read sales data csv file and iterate over the data to append to sales list\n",
    "with open(s_csvpath,'r') as s_d_csvfile:  \n",
    "    sales_csv_reader = csv.reader(s_d_csvfile, delimiter=',')\n",
    "    next(sales_csv_reader)\n",
    "    \n",
    "    for s_rows in sales_csv_reader:\n",
    "        sales.append(s_rows)"
   ]
  },
  {
   "cell_type": "code",
   "execution_count": 94,
   "metadata": {},
   "outputs": [],
   "source": [
    "# loop through rows in sales list to set menu item and quantity to their own variables\n",
    "for rows in sales:\n",
    "    menu_items = row[4]\n",
    "    quantity = row[3]\n",
    "\n",
    "\n",
    "    "
   ]
  },
  {
   "cell_type": "code",
   "execution_count": 95,
   "metadata": {},
   "outputs": [],
   "source": [
    "# # Add keys to report dictionary\n",
    "# report['01-count'] = 0\n",
    "# report['02-revenue'] = 0\n",
    "# report['03-cogs'] = 0\n",
    "# report['04-profit'] = 0"
   ]
  },
  {
   "cell_type": "code",
   "execution_count": null,
   "metadata": {},
   "outputs": [],
   "source": [
    "# Loop through rows in the menu list to set item, price, cost columns to their own variables\n",
    "    for rows in menu:\n",
    "        item = row[0]\n",
    "        price = row[3]\n",
    "        cost = row[4]"
   ]
  }
 ],
 "metadata": {
  "kernelspec": {
   "display_name": "Python 3",
   "language": "python",
   "name": "python3"
  },
  "language_info": {
   "codemirror_mode": {
    "name": "ipython",
    "version": 3
   },
   "file_extension": ".py",
   "mimetype": "text/x-python",
   "name": "python",
   "nbconvert_exporter": "python",
   "pygments_lexer": "ipython3",
   "version": "3.7.7"
  }
 },
 "nbformat": 4,
 "nbformat_minor": 4
}
